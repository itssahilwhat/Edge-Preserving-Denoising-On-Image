{
 "cells": [
  {
   "cell_type": "code",
   "execution_count": null,
   "id": "7816be29-3766-4c3f-87df-682b2a0c3825",
   "metadata": {},
   "outputs": [],
   "source": [
    "import cv2\n",
    "import numpy as np\n",
    "\n",
    "# Load the image (replace 'your_image.jpg' with your actual image file)\n",
    "img = cv2.imread('Images/GOT/01.jpg')\n",
    "if img is None:\n",
    "    print(\"Error: Image not found!\")\n",
    "    exit()\n",
    "\n",
    "# Optionally, convert to color if needed (the bilateral filter works with color images too)\n",
    "# For a grayscale version, you can uncomment the following line:\n",
    "# img = cv2.cvtColor(img, cv2.COLOR_BGR2GRAY)\n",
    "\n",
    "# ------------------ Optional: Add Gaussian Noise ------------------\n",
    "# Define noise parameters\n",
    "noise_mean = 0\n",
    "noise_sigma = 25\n",
    "\n",
    "# Create Gaussian noise (ensure the noise is the same shape as the image)\n",
    "gaussian_noise = np.random.normal(noise_mean, noise_sigma, img.shape).astype(np.uint8)\n",
    "\n",
    "# Add the Gaussian noise to the original image\n",
    "noisy_img = cv2.add(img, gaussian_noise)\n",
    "\n",
    "# ------------------ Apply Bilateral Filter (Edge-Preserving) ------------------\n",
    "# Bilateral filter parameters:\n",
    "#   d: Diameter of each pixel neighborhood.\n",
    "#   sigmaColor: Filter sigma in the color space (larger value means that farther colors within the pixel neighborhood will be mixed together).\n",
    "#   sigmaSpace: Filter sigma in the coordinate space (larger value means that farther pixels will influence each other).\n",
    "d = 9\n",
    "sigmaColor = 75\n",
    "sigmaSpace = 75\n",
    "filtered_img = cv2.bilateralFilter(noisy_img, d, sigmaColor, sigmaSpace)\n",
    "\n",
    "# ------------------ Display the Images ------------------\n",
    "cv2.imshow(\"Original Image\", img)\n",
    "cv2.imshow(\"Noisy Image\", noisy_img)\n",
    "cv2.imshow(\"Denoised (Bilateral Filter)\", filtered_img)\n",
    "\n",
    "cv2.waitKey(0)\n",
    "cv2.destroyAllWindows()"
   ]
  },
  {
   "cell_type": "code",
   "execution_count": null,
   "id": "a3ee67f4-aa7c-43ec-bee4-115c365f18ba",
   "metadata": {},
   "outputs": [],
   "source": []
  }
 ],
 "metadata": {
  "kernelspec": {
   "display_name": "Python 3 (ipykernel)",
   "language": "python",
   "name": "python3"
  },
  "language_info": {
   "codemirror_mode": {
    "name": "ipython",
    "version": 3
   },
   "file_extension": ".py",
   "mimetype": "text/x-python",
   "name": "python",
   "nbconvert_exporter": "python",
   "pygments_lexer": "ipython3",
   "version": "3.12.9"
  }
 },
 "nbformat": 4,
 "nbformat_minor": 5
}
